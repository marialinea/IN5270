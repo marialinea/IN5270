{
 "cells": [
  {
   "cell_type": "markdown",
   "metadata": {},
   "source": [
    "# Solving a 1D Poisson equation with the finite element method (P2 elements)"
   ]
  },
  {
   "cell_type": "markdown",
   "metadata": {},
   "source": [
    "## General problem\n",
    "\n",
    "In this project we wish to sovle the following 1D Possion equation \n",
    "\n",
    "$$ -u''(x) = 2x-1, \\hspace{0.4cm} \\Omega = [0,1], \\hspace{0.3cm} u'(0) = C, \\hspace{0.3cm} u(1) = D, \\tag{1}$$\n",
    "\n",
    "where $C$ and $D$ are two scalar constants. We will use an uniform mesh consisting of $N_e$ elements, with P2 elements. This means that each element will contain 3 nodes, one local node and two global. The global nodes for each element will be shared among the elements, expect for the boundary elements which only share one node. The steplenght $h$ and mesh points $x_i$ is thus defined as\n",
    "\n",
    "$$h = \\frac{1}{2N_e}, \\qquad x_i = ih \\hspace{0.3cm} \\text{for } i=0,...,N_n-1$$\n",
    "\n",
    "where $N_n$ as the total number of nodes (both local and global nodes) and thus $N_n = (2N_e + 1)$. We denote the number of unknowns that needs to be determined as $N = N_n$.\n",
    "\n",
    "## Task 1\n",
    "\n",
    "To derive the variational form of eq. (1) we can start from the general equation\n",
    "\n",
    "$$ -u''(x) = f(x). $$\n",
    "\n",
    "\n",
    "We wish to find a solution $u$ which lies in the vector space\n",
    "\n",
    "$$V = \\text{span}\\{\\psi_0,...,\\psi_N\\},$$\n",
    "\n",
    "meaning that $u$ can be expressed as a linear combination on the form\n",
    "\n",
    "$$u = \\sum_{j=0}^{N} c_j \\psi_j.$$\n",
    "\n",
    "In our current problem we have to account for the boundary condition $u(1) = D$ in the expression for $u$, but this is not necessary to include when deriving the variational form. We can rewrite eq. (1) as the abstract differential equation \n",
    "\n",
    "$$\\mathcal{L}(u) = u''(x) + f(x) = 0. \\tag{2}$$\n",
    "\n",
    "To formulate the variational form of eq. (1) we mulitply eq. (2) with an element from $V$ and integrate: \n",
    "\n",
    "$$ \\langle u''(x) + f(x), \\psi \\rangle \\hspace{0.5cm} \\forall \\psi \\in V \\tag{3}$$\n",
    "\n",
    "Here the inneproduct $\\langle f(x), g(x) \\rangle$ is defined as $\\int_{\\Omega} f(x)g(x) dx$. Rearranging eq. (3) we get\n",
    "\n",
    "$$ \\langle u''(x), \\psi \\rangle = - \\langle f(x), \\psi \\rangle. $$\n",
    "\n",
    "If we integrate the left-hand side by parts we obtain the variational form\n",
    "\n",
    "$$ \\langle u', \\psi' \\rangle = \\langle f, \\psi \\rangle + u'(1)\\psi(1) - C\\psi(0). \\tag{4}$$\n",
    "\n",
    "When solving eq. (1) the basis functions are piecewise quadratic polynomials."
   ]
  },
  {
   "cell_type": "markdown",
   "metadata": {},
   "source": [
    "#### Specified variational form\n",
    "\n",
    "In our specific case we know that $u(1) = D$, so the term containing $u'(1)$ in eq. (4) vanishes. The number of unknows is reduced by one, since the coefficient $c_{N_n-1}$ does not need to be determined, i. e. $N = N_n-1$. We have the following expression for $u$:\n",
    "\n",
    "$$u = B(x) + \\sum_{j=0}^{N_n-2} c_j \\psi_j,$$\n",
    "\n",
    "with $B(x) = D\\psi_{N_n-1}$ and the basis vectors $\\psi_j$ are Lagrange polynomials. The variational form reads\n",
    "\n",
    "$$ \\sum_{j=0}^N \\langle (B + c_j \\psi_j)', \\psi_i' \\rangle = \\langle 2x-1, \\psi_i \\rangle - C\\psi_i(0) $$\n",
    "\n",
    "$$ \\sum_{j=0}^N \\langle \\psi_j', \\psi_i' \\rangle c_j = \\langle 2x-1, \\psi_i \\rangle - C\\psi_i(0) - \\langle D\\psi_{N_n-1}', \\psi_i' \\rangle \\tag{5} $$\n",
    "\n",
    "Eq. (5) can be rewritten to a matrix equation with\n",
    "\n",
    "$$ \\sum_{j=0}^N A_{ij}c_j = \\sum_{j=0}^N \\langle \\psi_j', \\psi_i' \\rangle c_j,$$\n",
    "\n",
    "$$ b_i =  \\langle 2x-1, \\psi_i \\rangle - C\\psi_i(0) - \\langle D \\psi_{N_n-1}', \\psi_i' \\rangle \\tag{6}$$"
   ]
  },
  {
   "cell_type": "markdown",
   "metadata": {},
   "source": [
    "## Task 2\n",
    "\n",
    "The piecewise quadratic polynomials are found from the Lagrange polynomials,\n",
    "\n",
    "$$ \\psi_i = \\prod_{\\substack{j=0\\\\ j\\neq i}}^d \\frac{x-x_j}{x_i - x_j}, $$\n",
    "\n",
    "where $d$ is the number of nodes in element $i$. The entries in the element matrix $A$ is given by the inner product $A_{ij} = \\langle \\psi_j', \\psi_i' \\rangle$.\n",
    "\n",
    "* Rightmost element\n",
    "\n",
    "    The basis functions in $\\Omega^{(N_e)}$ are:\n",
    "    $$\\psi_{2N_e-2} = \\frac{(x-1 + h)(x-1)}{2h^2}$$\n",
    "    \n",
    "    $$\\psi_{2N_e-1} = - \\frac{(x-1+2h)(x-1)}{h^2} $$\n",
    "    \n",
    "    $$\\psi_{2N_e} = \\frac{(x-1+h)(x-1+2h)}{2h^2} $$\n",
    "    \n",
    "    The third basis function $\\psi_{2N_e}$ is only included so that we can determine the term $\\langle D \\psi_{N_n-1}', \\psi_i \\rangle$ in the right-hand side of our matrix equation, since $N_n - 1 = 2N_e$.\n",
    "    \n",
    "    From SymPy we find the inner products, and thus the matrix elements.\n",
    "    "
   ]
  },
  {
   "cell_type": "code",
   "execution_count": 7,
   "metadata": {},
   "outputs": [
    {
     "name": "stdout",
     "output_type": "stream",
     "text": [
      "[[7/(6*h) -4/(3*h)]\n",
      " [-4/(3*h) 8/(3*h)]]\n"
     ]
    }
   ],
   "source": [
    "import sympy as sym\n",
    "import numpy as np\n",
    "\n",
    "x = sym.Symbol(\"x\")\n",
    "h = sym.Symbol(\"h\")\n",
    "\n",
    "N = 2\n",
    "step = 1/(2*N)\n",
    "\n",
    "psi2 = (x-1+h)*(x-1)/(2*h*h)\n",
    "psi3 = -(x-1+2*h)*(x-1)/(h*h)\n",
    "\n",
    "d_psi2 = sym.diff(psi2, x)\n",
    "d_psi3 = sym.diff(psi3, x)\n",
    "\n",
    "psi22 = sym.simplify(d_psi2*d_psi2)\n",
    "psi23 = sym.simplify(d_psi2*d_psi3)\n",
    "psi33 = sym.simplify(d_psi3*d_psi3)\n",
    "\n",
    "\n",
    "A22 = sym.simplify(sym.integrate(psi22, (x, 1-2*h, 1)))\n",
    "A23 = sym.simplify(sym.integrate(psi23, (x, 1-2*h, 1)))\n",
    "A33 = sym.simplify(sym.integrate(psi33, (x, 1-2*h,1)))\n",
    "\n",
    "A2 = np.array([[A22, A23], [A23, A33]]).reshape(2,2)\n",
    "print(A2)"
   ]
  },
  {
   "cell_type": "markdown",
   "metadata": {},
   "source": [
    "The matrix elements are listed below.\n",
    "\n",
    "$$ \\langle \\psi_{2N_e-2}', \\psi_{2N_e-2}' \\rangle = \\frac{7}{6h}, \\qquad \\langle \\psi_{2N_e-2}', \\psi_{2N_e-1}' \\rangle = -\\frac{4}{3h},$$\n",
    "    \n",
    "$$ \\langle \\psi_{2N_e-1}', \\psi_{2N_e-2}' \\rangle = -\\frac{4}{3h}, \\qquad \\langle \\psi_{2N_e-1}', \\psi_{2N_e-1}' \\rangle = \\frac{8}{3h},$$\n",
    "    \n",
    "The right-hand side, given by eq. (6) is \n",
    "    \n",
    "$$b_{2N_e-2} = \\frac{h(1-4h)}{3} - \\frac{C(1-h)}{2h^2} + D, $$\n",
    "    \n",
    "$$b_{2N_e-1} = \\frac{4h(1-2h)}{3} - \\frac{C(2h-1)}{h^2}, $$"
   ]
  },
  {
   "cell_type": "markdown",
   "metadata": {},
   "source": [
    "* Leftmost element\n",
    "\n",
    "    The basis functions in $\\Omega^{(0)}$ are:\n",
    "    $$\\psi_0 = \\frac{(x-h)(x-2h)}{2h^2}$$\n",
    "    \n",
    "    $$\\psi_1 = - \\frac{x(x-2h)}{h^2} $$\n",
    "    \n",
    "    $$\\psi_2 = \\frac{x(x-h)}{2h^2} $$\n",
    "    \n",
    "    From SymPy we find the inner products, and thus the matrix elements."
   ]
  },
  {
   "cell_type": "code",
   "execution_count": 8,
   "metadata": {},
   "outputs": [
    {
     "name": "stdout",
     "output_type": "stream",
     "text": [
      "[[7/(6*h) -4/(3*h) 1/(6*h)]\n",
      " [-4/(3*h) 8/(3*h) -4/(3*h)]\n",
      " [1/(6*h) -4/(3*h) 7/(6*h)]]\n"
     ]
    }
   ],
   "source": [
    "psi0 = (x-h)*(x-2*h)/(2*h*h)\n",
    "psi1 = -x*(x-2*h)/(h*h)\n",
    "psi2 = x*(x-h)/(2*h*h)\n",
    "\n",
    "d_psi0 = sym.simplify(sym.diff(psi0, x))\n",
    "d_psi1 = sym.simplify(sym.diff(psi1, x))\n",
    "d_psi2 = sym.simplify(sym.diff(psi2, x))\n",
    "\n",
    "psi00 = sym.simplify(d_psi0*d_psi0)\n",
    "psi01 = sym.simplify(d_psi0*d_psi1)\n",
    "psi02 = sym.simplify(d_psi0*d_psi2)\n",
    "psi11 = sym.simplify(d_psi1*d_psi1)\n",
    "psi12 = sym.simplify(d_psi1*d_psi2)\n",
    "psi22 = sym.simplify(d_psi2*d_psi2)\n",
    "\n",
    "A00 = sym.simplify(sym.integrate(psi00, (x, 0, 2*h)))\n",
    "A01 = sym.simplify(sym.integrate(psi01, (x, 0, 2*h)))\n",
    "A02 = sym.simplify(sym.integrate(psi02, (x, 0, 2*h)))\n",
    "A11 = sym.simplify(sym.integrate(psi11, (x, 0, 2*h)))\n",
    "A12 = sym.simplify(sym.integrate(psi12, (x, 0, 2*h)))\n",
    "A22 = sym.simplify(sym.integrate(psi22, (x, 0, 2*h)))\n",
    "\n",
    "#A1 = np.array([[A00.subs(h, step), A01.subs(h, step), A02.subs(h, step)], [A01.subs(h, step), A11.subs(h, step), A12.subs(h, step)], [A02.subs(h, step), A12.subs(h, step), A22_0.subs(h, step)]]).reshape(3,3)\n",
    "\n",
    "A1 = np.array([[A00, A01, A02], [A01, A11, A12], [A02, A12, A22]]).reshape(3,3)\n",
    "print(A1)"
   ]
  },
  {
   "cell_type": "markdown",
   "metadata": {},
   "source": [
    "Below are the inner products listed:\n",
    "\n",
    "$$ \\langle \\psi_0', \\psi_0' \\rangle = \\frac{7}{6h}, \\qquad \\langle \\psi_0', \\psi_1' \\rangle = -\\frac{4}{3h}, \\qquad \\langle \\psi_0', \\psi_2' \\rangle = \\frac{1}{6h}.$$\n",
    "    \n",
    "$$ \\langle \\psi_1', \\psi_0' \\rangle = -\\frac{4}{3h}, \\qquad \\langle \\psi_1', \\psi_1' \\rangle = \\frac{8}{3h}, \\qquad \\langle \\psi_1', \\psi_2' \\rangle = -\\frac{4}{3h}.$$\n",
    "    \n",
    "$$ \\langle \\psi_2', \\psi_0' \\rangle = \\frac{1}{6h}, \\qquad \\langle \\psi_2', \\psi_1' \\rangle = -\\frac{4}{3h}, \\qquad \\langle \\psi_2', \\psi_2' \\rangle = \\frac{7}{6h}.$$\n",
    "    \n",
    "The right-hand side, given by eq. (6) is  MÅ LEGGE TIL BIDRAG FRA TREDJE LEDD I b_i\n",
    "    \n",
    "$$b_0 =  \\langle 2x-1, \\psi_0 \\rangle - C\\psi_0(0) = -\\frac{h}{3} - C$$\n",
    "    \n",
    "$$b_1 = \\langle 2x-1, \\psi_1 \\rangle = \\frac{4h(2h-1)}{3}, $$\n",
    "    \n",
    "$$b_2 = \\langle 2x-1, \\psi_2 \\rangle = \\frac{h(h-1)}{3} . $$\n",
    "    "
   ]
  },
  {
   "cell_type": "markdown",
   "metadata": {},
   "source": [
    "* An arbitrary interior element with index $e$\n",
    "\n",
    "    The basis functions in $\\Omega^{(e)}$, with the shared nodes are denoted $(j\\pm1)h$ and the local node is $jh$:\n",
    "\n",
    "    $$\\psi_{j-1} = \\frac{(x-jh)(x-jh-h)}{2h^2}$$\n",
    "    \n",
    "    $$\\psi_{j} = - \\frac{(x-jh+h)(x-jh-h)}{h^2} $$\n",
    "    \n",
    "    $$\\psi_{j+1} = \\frac{(x-jh)(x-jh+h)}{2h^2} $$\n",
    "    \n",
    "    From SymPy we find the inner products, and thus the matrix elements.\n"
   ]
  },
  {
   "cell_type": "code",
   "execution_count": 8,
   "metadata": {},
   "outputs": [
    {
     "name": "stdout",
     "output_type": "stream",
     "text": [
      "[[7/(6*h) -4/(3*h) 1/(6*h)]\n",
      " [-4/(3*h) 8/(3*h) -4/(3*h)]\n",
      " [1/(6*h) -4/(3*h) 7/(6*h)]]\n"
     ]
    }
   ],
   "source": [
    "j = sym.Symbol(\"j\")\n",
    "\n",
    "psiJm1 = (x-j*h)*(x-j*h-h)/(2*h*h)\n",
    "psiJ= -(x-j*h+h)*(x-j*h-h)/(h*h)\n",
    "psiJp1 = (x-j*h)*(x-j*h+h)/(2*h*h)\n",
    "\n",
    "d_psiJm1 = sym.simplify(sym.diff(psiJm1, x))\n",
    "d_psiJ = sym.simplify(sym.diff(psiJ, x))\n",
    "d_psiJp1 = sym.simplify(sym.diff(psiJp1, x))\n",
    "\n",
    "j_psi00 = sym.simplify(d_psiJm1*d_psiJm1)\n",
    "j_psi01 = sym.simplify(d_psiJm1*d_psiJ)\n",
    "j_psi02 = sym.simplify(d_psiJm1*d_psiJp1)\n",
    "j_psi11 = sym.simplify(d_psiJ*d_psiJ)\n",
    "j_psi12 = sym.simplify(d_psiJ*d_psiJp1)\n",
    "j_psi22_0 = sym.simplify(d_psiJp1*d_psiJp1)\n",
    "\n",
    "j_A00 = sym.simplify(sym.integrate(j_psi00, (x, (j-1)*h, (j+1)*h)))\n",
    "j_A01 = sym.simplify(sym.integrate(j_psi01, (x, (j-1)*h, (j+1)*h)))\n",
    "j_A02 = sym.simplify(sym.integrate(j_psi02, (x, (j-1)*h, (j+1)*h)))\n",
    "j_A11 = sym.simplify(sym.integrate(j_psi11, (x, (j-1)*h, (j+1)*h)))\n",
    "j_A12 = sym.simplify(sym.integrate(j_psi12, (x, (j-1)*h, (j+1)*h)))\n",
    "j_A22_0 = sym.simplify(sym.integrate(j_psi22_0, (x, (j-1)*h,(j+1)*h)))\n",
    "\n",
    "j_A1 = np.array([[j_A00, j_A01, j_A02], [j_A01, j_A11, j_A12], [j_A02, j_A12, j_A22_0]]).reshape(3,3)\n",
    "print(j_A1)"
   ]
  },
  {
   "cell_type": "markdown",
   "metadata": {},
   "source": [
    "The matrix elements are listed below.\n",
    "\n",
    "$$ \\langle \\psi_{j-1}', \\psi_{j-1}' \\rangle = \\frac{7}{6h}, \\qquad \\langle \\psi_{j-1}', \\psi_{j}' \\rangle = -\\frac{4}{3h}, \\qquad \\langle \\psi_{j-1}', \\psi_{j+1}' \\rangle = \\frac{1}{6h}.$$\n",
    "    \n",
    "$$ \\langle \\psi_{j}', \\psi_{j-1}' \\rangle = -\\frac{4}{3h}, \\qquad \\langle \\psi_{j}', \\psi_{j}' \\rangle = \\frac{8}{3h}, \\qquad \\langle \\psi_{j+1}', \\psi_{j+1}' \\rangle = -\\frac{4}{3h}.$$\n",
    "    \n",
    "$$ \\langle \\psi_{j+1}', \\psi_{j-1}' \\rangle = \\frac{1}{6h}, \\qquad \\langle \\psi_{j+1}', \\psi_{j}' \\rangle = -\\frac{4}{3h}, \\qquad \\langle \\psi_{j+1}', \\psi_{j+1}' \\rangle = \\frac{7}{6h}.$$"
   ]
  },
  {
   "cell_type": "code",
   "execution_count": null,
   "metadata": {},
   "outputs": [],
   "source": []
  }
 ],
 "metadata": {
  "kernelspec": {
   "display_name": "Python 3",
   "language": "python",
   "name": "python3"
  },
  "language_info": {
   "codemirror_mode": {
    "name": "ipython",
    "version": 3
   },
   "file_extension": ".py",
   "mimetype": "text/x-python",
   "name": "python",
   "nbconvert_exporter": "python",
   "pygments_lexer": "ipython3",
   "version": "3.8.5"
  }
 },
 "nbformat": 4,
 "nbformat_minor": 4
}
